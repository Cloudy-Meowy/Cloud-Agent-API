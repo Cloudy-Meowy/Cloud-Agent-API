{
 "cells": [
  {
   "cell_type": "code",
   "execution_count": 1,
   "id": "713085dc",
   "metadata": {},
   "outputs": [
    {
     "data": {
      "text/plain": [
       "'\\nTODO:\\n- rag database, có nối với phương thức nào đó để sau dễ rag\\n- function thực hiện rag\\n- function thực hiện predict\\n- nâng cao hơn, tự quyết định khi nào rag, khi nào không\\n'"
      ]
     },
     "execution_count": 1,
     "metadata": {},
     "output_type": "execute_result"
    }
   ],
   "source": [
    "'''\n",
    "TODO:\n",
    "- rag database, có nối với phương thức nào đó để sau dễ rag\n",
    "- function thực hiện rag\n",
    "- function thực hiện predict\n",
    "- nâng cao hơn, tự quyết định khi nào rag, khi nào không\n",
    "'''"
   ]
  },
  {
   "cell_type": "code",
   "execution_count": 1,
   "id": "3e91c660",
   "metadata": {},
   "outputs": [
    {
     "name": "stdout",
     "output_type": "stream",
     "text": [
      "The capital of France is Paris.\n"
     ]
    }
   ],
   "source": [
    "from openai import OpenAI\n",
    "\n",
    "def call_llm(prompt, model=\"gpt-4o-mini\"):\n",
    "    client = OpenAI()\n",
    "    response = client.chat.completions.create(  \n",
    "        model='gpt-4o-mini',\n",
    "        messages=[\n",
    "            {\"role\": \"user\", \"content\": prompt},\n",
    "        ]\n",
    "    )\n",
    "    return response.choices[0].message.content\n",
    "\n",
    "print(call_llm(\"What is the capital of France?\"))"
   ]
  },
  {
   "cell_type": "code",
   "execution_count": 3,
   "id": "f85c3aa0",
   "metadata": {},
   "outputs": [
    {
     "data": {
      "text/plain": [
       "'\\nLoad document và chia thành các chunk để đẩy vào elasticsearch\\n'"
      ]
     },
     "execution_count": 3,
     "metadata": {},
     "output_type": "execute_result"
    }
   ],
   "source": [
    "from langchain.document_loaders import PyMuPDFLoader, UnstructuredWordDocumentLoader\n",
    "from langchain.text_splitter import RecursiveCharacterTextSplitter\n",
    "from langchain_huggingface import HuggingFaceEmbeddings\n",
    "from langchain.vectorstores import ElasticsearchStore\n",
    "from elasticsearch import Elasticsearch\n",
    "\n",
    "import os\n",
    "from glob import glob\n",
    "'''\n",
    "Load document và chia thành các chunk để đẩy vào elasticsearch\n",
    "'''\n",
    "# def load_documents_from_folder(folder_path):\n",
    "#     documents = []\n",
    "#     for file in glob(os.path.join(folder_path, \"*\")):\n",
    "#         if file.endswith(\".pdf\"):\n",
    "#             loader = PyMuPDFLoader(file)\n",
    "#         elif file.endswith(\".docx\"):\n",
    "#             loader = UnstructuredWordDocumentLoader(file)\n",
    "#         else:\n",
    "#             continue\n",
    "#         docs = loader.load()\n",
    "#         documents.extend(docs)\n",
    "#     return documents\n",
    "\n",
    "# def split_documents(documents):\n",
    "#     splitter = RecursiveCharacterTextSplitter(chunk_size=500, chunk_overlap=50)\n",
    "#     return splitter.split_documents(documents)\n",
    "\n",
    "\n",
    "# folder_path = \"data\"\n",
    "# docs = load_documents_from_folder(folder_path)\n",
    "# split_docs = split_documents(docs)\n",
    "\n"
   ]
  },
  {
   "cell_type": "code",
   "execution_count": null,
   "id": "fa1a9bb4",
   "metadata": {},
   "outputs": [],
   "source": [
    "'''\n",
    "đẩy các chunk documents vào elasticsearch\n",
    "'''\n",
    "\n",
    "# def create_elasticsearch_store(docs):\n",
    "#     embeddings = HuggingFaceEmbeddings(model_name=\"all-MiniLM-L6-v2\")\n",
    "\n",
    "#     elastic_vector_store = ElasticsearchStore.from_documents(\n",
    "#         documents=docs,\n",
    "#         embedding=embeddings,\n",
    "#         es_cloud_id=\"agent_elastic:YXNpYS1zb3V0aGVhc3QxLmdjcC5lbGFzdGljLWNsb3VkLmNvbTo0NDMkMTVhN2M0YjQ2MjRhNDI3MjkzYjM5ZWNjMGYzNWRlNTEkYzYyNzdhOWJhMTFlNDBkOGI3NDg4NTFlNmVlYWUzNmU=\",\n",
    "#         index_name=\"my_index\",\n",
    "#         es_user=\"elastic\",\n",
    "#         es_password=\"dfbrEbfnW6RHG0hTFHouCblj\",\n",
    "#     )\n",
    "#     return elastic_vector_store\n",
    "# elasticsearch_store = create_elasticsearch_store(split_docs)"
   ]
  },
  {
   "cell_type": "code",
   "execution_count": 4,
   "id": "1021baf7",
   "metadata": {},
   "outputs": [
    {
     "name": "stderr",
     "output_type": "stream",
     "text": [
      "d:\\AI_CODE\\Cloud-Agent-API\\agent_cloud\\Lib\\site-packages\\tqdm\\auto.py:21: TqdmWarning: IProgress not found. Please update jupyter and ipywidgets. See https://ipywidgets.readthedocs.io/en/stable/user_install.html\n",
      "  from .autonotebook import tqdm as notebook_tqdm\n",
      "C:\\Users\\tridu\\AppData\\Local\\Temp\\ipykernel_15892\\3712738736.py:9: LangChainPendingDeprecationWarning: The class `ElasticsearchStore` will be deprecated in a future version. Use :class:`~Use class in langchain-elasticsearch package` instead.\n",
      "  elasticsearch_store = ElasticsearchStore(\n"
     ]
    }
   ],
   "source": [
    "''' \n",
    "Load elastic store để thực hiện truy vấn\n",
    "'''\n",
    "es_connection = Elasticsearch(\n",
    "    cloud_id=\"agent_elastic:YXNpYS1zb3V0aGVhc3QxLmdjcC5lbGFzdGljLWNsb3VkLmNvbTo0NDMkMTVhN2M0YjQ2MjRhNDI3MjkzYjM5ZWNjMGYzNWRlNTEkYzYyNzdhOWJhMTFlNDBkOGI3NDg4NTFlNmVlYWUzNmU=\",\n",
    "    basic_auth=(\"elastic\", \"dfbrEbfnW6RHG0hTFHouCblj\"),\n",
    ")\n",
    "\n",
    "elasticsearch_store = ElasticsearchStore(\n",
    "    embedding=HuggingFaceEmbeddings(model_name=\"all-MiniLM-L6-v2\"),\n",
    "    index_name=\"my_index\",\n",
    "    es_connection=es_connection,\n",
    ")"
   ]
  },
  {
   "cell_type": "code",
   "execution_count": 5,
   "id": "0cad351a",
   "metadata": {},
   "outputs": [],
   "source": [
    "def retrieve(query: str, k = 3):\n",
    "    results = elasticsearch_store.similarity_search(query, k=k)\n",
    "    return results"
   ]
  },
  {
   "cell_type": "code",
   "execution_count": 6,
   "id": "49e26522",
   "metadata": {},
   "outputs": [],
   "source": [
    "### RAG FLOW\n",
    "def rag(query: str):\n",
    "    # 1. Retrieve relevant documents\n",
    "    retrieved_docs = retrieve(query)\n",
    "    \n",
    "    # 2. Combine the retrieved documents with the query\n",
    "    combined_input = f\"Query: {query}\\nDocuments: {retrieved_docs}\"\n",
    "    \n",
    "    # 3. Call the LLM with the combined input\n",
    "    response = call_llm(combined_input)\n",
    "    \n",
    "    return response"
   ]
  },
  {
   "cell_type": "code",
   "execution_count": 7,
   "id": "58638f73",
   "metadata": {},
   "outputs": [],
   "source": [
    "result = rag(\"bảo hiểm y tế có những quy định gì quan trọng\")"
   ]
  },
  {
   "cell_type": "code",
   "execution_count": 8,
   "id": "8843c0e6",
   "metadata": {},
   "outputs": [
    {
     "data": {
      "text/plain": [
       "'Bảo hiểm y tế tại Việt Nam có một số quy định quan trọng được ghi nhận trong các văn bản pháp luật. Dưới đây là những điểm chính:\\n\\n1. **Quy định về tổ chức và hoạt động**: Bảo hiểm y tế được tổ chức để đảm bảo quyền lợi chăm sóc sức khỏe cho nhân dân, có sự quản lý và giám sát từ Hội đồng quản lý bảo hiểm xã hội.\\n\\n2. **Trách nhiệm của Hội đồng quản lý**: Hội đồng quản lý bảo hiểm xã hội, bao gồm cả bảo hiểm y tế, có trách nhiệm chỉ đạo, giám sát và tư vấn chính sách liên quan đến bảo hiểm.\\n\\n3. **Các quyền lợi được hưởng**: Người tham gia bảo hiểm y tế sẽ được hưởng các quyền lợi chăm sóc sức khỏe theo quy định pháp luật, bao gồm việc được khám chữa bệnh, điều trị và cấp thuốc.\\n\\n4. **Thời gian làm việc và nghỉ ngơi**: Có quy định liên quan đến thời giờ làm việc và nghỉ ngơi, bảo đảm quyền lợi cho người lao động nói chung, bao gồm cả việc tham gia bảo hiểm y tế.\\n\\n5. **Đào tạo và nâng cao kỹ năng**: Trong bối cảnh bảo hiểm y tế, có quy định về việc trang bị kiến thức cho người lao động về quyền lợi bảo hiểm y tế.\\n\\n6. **Trang bị bảo hộ lao động**: Mặc dù không trực tiếp liên quan đến bảo hiểm y tế, nhưng việc trang bị bảo hộ lao động cho người lao động có thể ảnh hưởng đến nhu cầu và tầm quan trọng của bảo hiểm y tế trong việc giảm thiểu rủi ro sức khỏe.\\n\\nCác quy định này đảm bảo hệ thống bảo hiểm y tế hoạt động hiệu quả, góp phần bảo vệ sức khỏe cộng đồng.'"
      ]
     },
     "execution_count": 8,
     "metadata": {},
     "output_type": "execute_result"
    }
   ],
   "source": [
    "result"
   ]
  },
  {
   "cell_type": "code",
   "execution_count": null,
   "id": "258cf0cd",
   "metadata": {},
   "outputs": [],
   "source": []
  }
 ],
 "metadata": {
  "kernelspec": {
   "display_name": "agent_cloud",
   "language": "python",
   "name": "python3"
  },
  "language_info": {
   "codemirror_mode": {
    "name": "ipython",
    "version": 3
   },
   "file_extension": ".py",
   "mimetype": "text/x-python",
   "name": "python",
   "nbconvert_exporter": "python",
   "pygments_lexer": "ipython3",
   "version": "3.12.2"
  }
 },
 "nbformat": 4,
 "nbformat_minor": 5
}
